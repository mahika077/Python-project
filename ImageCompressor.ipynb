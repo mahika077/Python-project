{
  "nbformat": 4,
  "nbformat_minor": 0,
  "metadata": {
    "colab": {
      "name": "Untitled6.ipynb",
      "provenance": [],
      "toc_visible": true
    },
    "kernelspec": {
      "name": "python3",
      "display_name": "Python 3"
    },
    "language_info": {
      "name": "python"
    }
  },
  "cells": [
    {
      "cell_type": "code",
      "execution_count": 4,
      "metadata": {
        "id": "c8IZt-UHy2h6"
      },
      "outputs": [],
      "source": [
        "#This code actually helps in resizing an image.We can change the value of the mywidth variable according to the original image.\n",
        "\n",
        "import PIL\n",
        "from PIL import Image\n",
        "\n",
        "mywidth = 2252\n",
        "\n",
        "img = Image.open('/content/lilly.rgba')\n",
        "wpercent = (mywidth/float(img.size[0]))\n",
        "hsize = int((float(img.size[1])*float(wpercent)))\n",
        "img = img.resize((mywidth,hsize), PIL.Image.ANTIALIAS)\n",
        "img.save('/content/lilly1.rgba') #This creates a compressed image with the name lilly1."
      ]
    },
    {
      "cell_type": "code",
      "execution_count": null,
      "metadata": {
        "id": "PJ_V01Al0abW"
      },
      "outputs": [],
      "source": [
        ""
      ]
    },
    {
      "cell_type": "markdown",
      "source": [
        "# New Section"
      ],
      "metadata": {
        "id": "9SzU9p10zQ6F"
      }
    }
  ]
}
